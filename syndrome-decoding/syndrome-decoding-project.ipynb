{
  "cells": [
    {
      "cell_type": "code",
      "execution_count": 1,
      "metadata": {
        "colab": {
          "base_uri": "https://localhost:8080/"
        },
        "id": "6JFfJTa2x-Gs",
        "outputId": "3a93c5c6-2032-460c-fd2c-82a16940cb38"
      },
      "outputs": [],
      "source": [
        "# !pip install sympy\n",
        "# !pip install galois\n",
        "import sympy\n",
        "import galois\n",
        "import numpy as np"
      ]
    },
    {
      "cell_type": "markdown",
      "metadata": {
        "id": "njTzFMRGBev0"
      },
      "source": [
        "# Input to Integer Matrix"
      ]
    },
    {
      "cell_type": "markdown",
      "metadata": {
        "id": "13gtBIkMQ0T0"
      },
      "source": [
        "The values $q$ and $n$ will be global."
      ]
    },
    {
      "cell_type": "code",
      "execution_count": 2,
      "metadata": {
        "colab": {
          "base_uri": "https://localhost:8080/"
        },
        "id": "qGBvOgzT0Uz5",
        "outputId": "88d3d49f-f7f8-43f2-dacc-92e8a0b7838c"
      },
      "outputs": [],
      "source": [
        "q = input(\"In the finite field F_q such that q is a prime.\\nq = \")\n",
        "q = int(q)\n",
        "N = input(\"N, the length of the codes.\\nN = \")\n",
        "N = int(N)\n",
        "\n",
        "while(not sympy.isprime(q)):\n",
        "    q = input(f\"{q} is not a prime, enter a prime number.\\nq = \")\n",
        "    q = int(q)"
      ]
    },
    {
      "cell_type": "markdown",
      "metadata": {
        "id": "nrFj6HUjQ4XZ"
      },
      "source": [
        "The following algorithm converts string data (which consists of codes in ${\\mathbb{F}}_q^n$) to matrix in which each row stores the code where the columns are the coordinates."
      ]
    },
    {
      "cell_type": "code",
      "execution_count": 3,
      "metadata": {
        "colab": {
          "base_uri": "https://localhost:8080/"
        },
        "id": "fDHwYP5p3eK5",
        "outputId": "35ea6157-707b-47a8-9d3f-67ace6f269be"
      },
      "outputs": [
        {
          "name": "stdout",
          "output_type": "stream",
          "text": [
            "Detected: q = 7 and N = 4\n",
            "Enter the code A1A2A3...AN such that Ai an element of F_7 by typing them separately by space.\n",
            "For example, if N=3 and q=11, and A1 = 1, A2 = 10, A3 = 3, then type \"1 10 3\".\n",
            "Please enter each of the Ai only with integers.\n"
          ]
        }
      ],
      "source": [
        "def getMatrix(q, n):\n",
        "    print(f\"Detected: q = {q} and N = {n}\")\n",
        "    print(f\"Enter the code A1A2A3...AN such that Ai an element of F_{q} by typing them separately by space.\")\n",
        "    print(f\"For example, if N=3 and q=11, and A1 = 1, A2 = 10, A3 = 3, then type \\\"1 10 3\\\".\")\n",
        "    print(\"Please enter each of the Ai only with integers.\")\n",
        "\n",
        "    k = input(\"\\nHow many strings? Enter a natural number: \")\n",
        "    k = int(k)\n",
        "    M = [[0 for i in range(N)] for j in range(k)]\n",
        "    for i in range(k):\n",
        "        b = input(f\"Code {i+1}: \")\n",
        "        numlist = b.split()\n",
        "        while(len(numlist) != N):\n",
        "            print(f\"The length is not {N}, try again.\")\n",
        "            b = input(f\"Code {i+1}: \")\n",
        "            numlist = b.split()\n",
        "        numlist = np.array(numlist)\n",
        "        numlist = numlist.astype('int64')\n",
        "        M[i] = np.asarray(numlist)\n",
        "    return M\n",
        "\n",
        "M = getMatrix(q,N)\n",
        "# Basically, M is just the inputted code in matrix format"
      ]
    },
    {
      "cell_type": "markdown",
      "metadata": {
        "id": "2-oneVKo_pKe"
      },
      "source": [
        "# Finite Field and Matrix Initiation"
      ]
    },
    {
      "cell_type": "markdown",
      "metadata": {
        "id": "OXGCuxbhLsy9"
      },
      "source": [
        "$C$ is the $k \\times n$ matrix with elements in the $\\text{GF}(q)$ field."
      ]
    },
    {
      "cell_type": "code",
      "execution_count": 4,
      "metadata": {
        "colab": {
          "base_uri": "https://localhost:8080/"
        },
        "id": "2aBW_joHCIMs",
        "outputId": "416050c8-76e3-422b-c869-d2593837e9fb"
      },
      "outputs": [
        {
          "name": "stdout",
          "output_type": "stream",
          "text": [
            "[[1 2 3 4]\n",
            " [2 3 4 5]\n",
            " [3 4 5 6]]\n"
          ]
        }
      ],
      "source": [
        "GF = galois.GF(q)\n",
        "C = M\n",
        "# C = np.transpose(C)\n",
        "k = len(C)\n",
        "n = len(C[0])\n",
        "C = np.matrix(C)\n",
        "C = GF(C%q)\n",
        "print(C)"
      ]
    },
    {
      "cell_type": "markdown",
      "metadata": {
        "id": "EiCYb1XRBjgq"
      },
      "source": [
        "# Matrix to $\\text{GF}(q)$ and creating elementary matrices"
      ]
    },
    {
      "cell_type": "markdown",
      "metadata": {
        "id": "REdcU6S9Ioit"
      },
      "source": [
        "The following three procedures is designed to create the three elementary matrices. To do the elementary row operation, do:\n",
        "\n",
        "`row_____(k, parameters) @ C`\n",
        "\n",
        "where `C` is the matrix that we needed to do elementary row operations with."
      ]
    },
    {
      "cell_type": "markdown",
      "metadata": {
        "id": "7d-0AwrLJA8L"
      },
      "source": [
        "rowSwap($k$, $a$, $b$)\n",
        "\n",
        "Swaps the $a+1$-th and $b+1$-th row."
      ]
    },
    {
      "cell_type": "code",
      "execution_count": 5,
      "metadata": {
        "id": "yurjr9DwEc16"
      },
      "outputs": [],
      "source": [
        "def rowSwap(k,a,b,ffield):\n",
        "    N = [[0 for i in range(k)] for j in range(k)]\n",
        "    for i in range(k): N[i][i] = 1\n",
        "    N[a][a] = 0\n",
        "    N[b][b] = 0\n",
        "    N[a][b] = 1\n",
        "    N[b][a] = 1\n",
        "    N = ffield(N)\n",
        "    return N"
      ]
    },
    {
      "cell_type": "markdown",
      "metadata": {
        "id": "PZnYchBIIbxE"
      },
      "source": [
        "rowMult($k$, $a$, $x$)\n",
        "\n",
        "Multiplies the $a+1$-th row with $x$."
      ]
    },
    {
      "cell_type": "code",
      "execution_count": 6,
      "metadata": {
        "id": "rkwCcA-GFsgh"
      },
      "outputs": [],
      "source": [
        "def rowMult(k,a,x,ffield):\n",
        "    N = [[0 for i in range(k)] for j in range(k)]\n",
        "    N = np.matrix(N)\n",
        "    N = ffield(N)\n",
        "    for i in range(k): N[i,i] = 1\n",
        "    N[a] = N[a] * x\n",
        "    return N"
      ]
    },
    {
      "cell_type": "markdown",
      "metadata": {
        "id": "AplGeGB0IJMr"
      },
      "source": [
        "rowMAdd($k$, $a$, $b$, $x$)\n",
        "\n",
        "Adds the $b+1$-th row with $x$ times of the $a+1$-th row"
      ]
    },
    {
      "cell_type": "code",
      "execution_count": 7,
      "metadata": {
        "id": "Ade5UCq6HcbW"
      },
      "outputs": [],
      "source": [
        "def rowMAdd(k,a,b,x,ffield):\n",
        "    N = [[0 for i in range(k)] for j in range(k)]\n",
        "    N = np.matrix(N)\n",
        "    for i in range(k): N[i,i] = 1\n",
        "    N[a,b] = x\n",
        "    N = ffield(N)\n",
        "    return N"
      ]
    },
    {
      "cell_type": "markdown",
      "metadata": {
        "id": "V8UFiNzMJ52c"
      },
      "source": [
        "# Gaussian Elimination Routines"
      ]
    },
    {
      "cell_type": "markdown",
      "metadata": {
        "id": "rvmRpS1uN_m9"
      },
      "source": [
        "swapNonZero($C$, $k$, $r$, $c$)\n",
        "\n",
        "This function swaps the $(r,c)$-th element (technically rows) in $C$ for a non-zero element at $(i,c)$ with $r \\leq i \\leq k$. Essentially, this creates so that the pivot is non-zero, making the elimination possible."
      ]
    },
    {
      "cell_type": "code",
      "execution_count": 8,
      "metadata": {
        "id": "V-4hMpi3J68U"
      },
      "outputs": [],
      "source": [
        "def swapNonZero(C, Kc, row, col, ffield):\n",
        "    for i in range(row, Kc):\n",
        "        if (C[i][col] != 0):\n",
        "            C = rowSwap(Kc,row,i,ffield) @ C\n",
        "            break\n",
        "    return C"
      ]
    },
    {
      "cell_type": "markdown",
      "metadata": {
        "id": "KHz4zh2OQAcq"
      },
      "source": [
        "searchNonZero($C$, $k$, $n$, $r$, $c$)\n",
        "\n",
        "This function searches for the non-zero pivot next available after eliminating all the $(i,c)$-th elements with $r+1 \\leq i \\leq k$ such that $r < k$ and $c < n$."
      ]
    },
    {
      "cell_type": "code",
      "execution_count": 9,
      "metadata": {
        "id": "JAbEiUD5O7Mg"
      },
      "outputs": [],
      "source": [
        "def searchNonZero(C, Kc, Nc, row, col):\n",
        "    if (row == Kc-1) or (col == Nc):\n",
        "        return [row+1, col+1]\n",
        "    else:\n",
        "        Row = row + 1\n",
        "        Col = col + 1\n",
        "        while(Col < Nc):\n",
        "            if C[Row][Col]!=0:\n",
        "                return [Row, Col]\n",
        "            Col = Col + 1\n",
        "        return [Row, Col]"
      ]
    },
    {
      "cell_type": "markdown",
      "metadata": {
        "id": "yP6vVqIgrwWK"
      },
      "source": [
        "gaussNonZero($C$, $k$, $n$, $r$, $c$)\n",
        "\n",
        "This function exhibit the same behaviour as searchNonZero but instead it searches the first non-zero element that is encountered on the rectangular block spanned by $(r+1, c+1)$ and $(k,n)$ and swaps the first non-zero element that is found, column-wise."
      ]
    },
    {
      "cell_type": "code",
      "execution_count": 10,
      "metadata": {
        "id": "sd5jbxWiWM5r"
      },
      "outputs": [],
      "source": [
        "def gaussNonZero(C, Kc, Nc, row, col, ffield):\n",
        "    if (row == Kc-1) or (col == Nc):\n",
        "        return C\n",
        "    else:\n",
        "        Row = row + 1\n",
        "        Col = col + 1\n",
        "        while(Col < Nc):\n",
        "            C = swapNonZero(C, Kc, Row, Col, ffield)\n",
        "            if C[Row][Col]!=0:\n",
        "                break\n",
        "            Col = Col + 1\n",
        "        return C"
      ]
    },
    {
      "cell_type": "markdown",
      "metadata": {
        "id": "beWVlA1OJ57E"
      },
      "source": [
        "# Gaussian Elimination: Row Echelon Form and Reduced Row Echelon Form"
      ]
    },
    {
      "cell_type": "markdown",
      "metadata": {
        "id": "0glYm43Xstx1"
      },
      "source": [
        "RowEchelonForm($C$)\n",
        "\n",
        "Straightforward algorithm of making the matrix $C$ into row echelon form."
      ]
    },
    {
      "cell_type": "code",
      "execution_count": 11,
      "metadata": {
        "colab": {
          "base_uri": "https://localhost:8080/"
        },
        "id": "zrcDE6ubJ7t6",
        "outputId": "ec4e5e18-08c6-4e31-f42c-d63318537c68"
      },
      "outputs": [
        {
          "name": "stdout",
          "output_type": "stream",
          "text": [
            "REF of C = \n",
            "[[1 2 3 4]\n",
            " [0 6 5 4]\n",
            " [0 0 0 0]]\n"
          ]
        }
      ],
      "source": [
        "def RowEchelonForm(C, ffield):\n",
        "    pivot = [0, 0]\n",
        "    k = len(C)\n",
        "    n = len(C[0])\n",
        "    C = gaussNonZero(C, k, n, -1, -1, ffield)\n",
        "    pivot = searchNonZero(C, k, n, -1, -1)\n",
        "    while(pivot[0]<k-1) and (pivot[1]<n):\n",
        "        for j in range(pivot[0]+1, k):\n",
        "            m = (-1)*C[j][pivot[1]] // C[pivot[0]][pivot[1]]\n",
        "            C = rowMAdd(k, j, pivot[0], m, ffield) @ C\n",
        "        C = gaussNonZero(C, k, n, pivot[0], pivot[1], ffield)\n",
        "        pivot = searchNonZero(C, k, n, pivot[0], pivot[1])\n",
        "    return C\n",
        "\n",
        "print(\"REF of C = \")\n",
        "print(RowEchelonForm(C, GF))"
      ]
    },
    {
      "cell_type": "markdown",
      "metadata": {
        "id": "dIQVsuUWs4NG"
      },
      "source": [
        "pivotREF($C$)\n",
        "\n",
        "Stores all the pivot after REF."
      ]
    },
    {
      "cell_type": "code",
      "execution_count": 12,
      "metadata": {
        "colab": {
          "base_uri": "https://localhost:8080/"
        },
        "id": "UZY7uPfSbuON",
        "outputId": "81a26a41-a3df-474a-9ca8-883110c337c4"
      },
      "outputs": [],
      "source": [
        "def pivotREF(C, ffield):\n",
        "    pivot = [0, 0]\n",
        "    pivots = []\n",
        "    k = len(C)\n",
        "    n = len(C[0])\n",
        "    C = gaussNonZero(C, k, n, -1, -1, ffield)\n",
        "    pivot = searchNonZero(C, k, n, -1, -1)\n",
        "    pvt = np.array(pivot)\n",
        "    pivots.append(pvt)\n",
        "    while(pivot[0]<k-1) and (pivot[1]<n):\n",
        "        for j in range(pivot[0]+1, k):\n",
        "            m = (-1)*C[j][pivot[1]] // C[pivot[0]][pivot[1]]\n",
        "            C = rowMAdd(k, j, pivot[0], m, ffield) @ C\n",
        "        C = gaussNonZero(C, k, n, pivot[0], pivot[1], ffield)\n",
        "        pivot = searchNonZero(C, k, n, pivot[0], pivot[1])\n",
        "        if pivot[1]<n:\n",
        "            pvt = np.array(pivot)\n",
        "            pivots.append(pvt)\n",
        "    pivots = np.asarray(pivots)\n",
        "    return pivots.astype('int64')\n",
        "\n",
        "# print(pivotREF(C, GF))"
      ]
    },
    {
      "cell_type": "markdown",
      "metadata": {
        "id": "BCuOriiztIwV"
      },
      "source": [
        "RREchelonForm($C$, $p$)\n",
        "\n",
        "Straightforward algorithm of making the matrix $C$ into reduced row echelon form given $C$ is in REF and $p$ is the information regarding the pivots."
      ]
    },
    {
      "cell_type": "code",
      "execution_count": 13,
      "metadata": {
        "colab": {
          "base_uri": "https://localhost:8080/"
        },
        "id": "EFtMvw_Pn8lK",
        "outputId": "76e5c4a1-bfee-4e41-e98c-cc9810c25101"
      },
      "outputs": [
        {
          "name": "stdout",
          "output_type": "stream",
          "text": [
            "RREF of C = \n",
            "[[1 0 6 5]\n",
            " [0 1 2 3]\n",
            " [0 0 0 0]]\n"
          ]
        }
      ],
      "source": [
        "def RREchelonForm(C, pivots, ffield):\n",
        "    L = len(pivots)\n",
        "    k = len(C)\n",
        "    n = len(C[0])\n",
        "    for i in range(L):\n",
        "        s = L-i-1\n",
        "        if pivots[s][1]==n:\n",
        "            break\n",
        "        m = C[pivots[s][0]][pivots[s][1]] ** -1\n",
        "        C = rowMult(k, pivots[s][0], m, ffield) @ C\n",
        "        for j in range(pivots[s][0]):\n",
        "            m = (-1)*C[j][pivots[s][1]]\n",
        "            C = rowMAdd(k, j, pivots[s][0], m, ffield) @ C\n",
        "    return C\n",
        "\n",
        "D = RowEchelonForm(C, GF)\n",
        "pivots = pivotREF(C, GF)\n",
        "\n",
        "print(\"RREF of C = \")\n",
        "print(RREchelonForm(D,pivots,GF))"
      ]
    },
    {
      "cell_type": "markdown",
      "metadata": {
        "id": "jJ_wxJKptbS2"
      },
      "source": [
        "# Base-finding algorithm"
      ]
    },
    {
      "cell_type": "markdown",
      "metadata": {},
      "source": [
        "## Algorithm 1: to find a basis $B \\subseteq {\\mathbb{F}}_q^N$ for $C = \\text{span}(S)$, with $S \\subseteq {\\mathbb{F}}_q^N$"
      ]
    },
    {
      "cell_type": "code",
      "execution_count": 14,
      "metadata": {
        "colab": {
          "base_uri": "https://localhost:8080/"
        },
        "id": "jvUl96Q9cMC-",
        "outputId": "fab18ea1-d35f-4d9e-9095-176e9da09c10"
      },
      "outputs": [
        {
          "name": "stdout",
          "output_type": "stream",
          "text": [
            "B1 basis for C = \n",
            "[[1 2 3 4]\n",
            " [0 6 5 4]]\n"
          ]
        }
      ],
      "source": [
        "def generalBase(C, ffield):\n",
        "    pivots = pivotREF(C, ffield)\n",
        "    D = RowEchelonForm(C, ffield)\n",
        "    nzrows = len(pivots)\n",
        "    return D[:nzrows,:]\n",
        "\n",
        "print(\"B1 basis for C = \")\n",
        "print(generalBase(C, GF))"
      ]
    },
    {
      "cell_type": "markdown",
      "metadata": {
        "id": "nYT0hWI9J6WI"
      },
      "source": [
        "## Algorithm 2: to find basis $B \\subseteq S \\subseteq {\\mathbb{F}}_q^N$ for $C = \\text{span}(S)$"
      ]
    },
    {
      "cell_type": "code",
      "execution_count": 15,
      "metadata": {
        "colab": {
          "base_uri": "https://localhost:8080/"
        },
        "id": "e8lLqYorcMiB",
        "outputId": "b9e2f32b-efb5-473e-fcec-98331c0590f4"
      },
      "outputs": [
        {
          "name": "stdout",
          "output_type": "stream",
          "text": [
            "B2 subsetted basis for C = \n",
            "[[1 2 3 4]\n",
            " [2 3 4 5]]\n"
          ]
        }
      ],
      "source": [
        "def subsetedBase(C, ffield):\n",
        "    D = np.transpose(C)\n",
        "    pivots = pivotREF(D, ffield)\n",
        "    nzrows = len(pivots)\n",
        "    return C[pivots[:,1],:]\n",
        "\n",
        "print(\"B2 subsetted basis for C = \")\n",
        "print(subsetedBase(C, GF))"
      ]
    },
    {
      "cell_type": "markdown",
      "metadata": {
        "id": "qNmextx0tde8"
      },
      "source": [
        "## Algorithm 3: to find basis $B \\subseteq {\\mathbb{F}}_q^N$ for $C^{\\perp}$ (the dual of $C$)"
      ]
    },
    {
      "cell_type": "code",
      "execution_count": 16,
      "metadata": {
        "colab": {
          "base_uri": "https://localhost:8080/"
        },
        "id": "-_Sx9DRenSmE",
        "outputId": "ed15b878-d1ee-4a33-ffea-4bb84aeaa390"
      },
      "outputs": [
        {
          "name": "stdout",
          "output_type": "stream",
          "text": [
            "B3 basis for C dual = \n",
            "[[1 5 1 0]\n",
            " [2 4 0 1]]\n"
          ]
        }
      ],
      "source": [
        "def dualBase(C, ffield):\n",
        "    k = len(C)\n",
        "    n = len(C[0])\n",
        "    D = RowEchelonForm(C, ffield)\n",
        "    pivots = pivotREF(C, ffield)\n",
        "    nzrows = len(pivots)\n",
        "    C = RREchelonForm(D, pivots, ffield)\n",
        "\n",
        "    G = C[0:nzrows,:]\n",
        "    Gprime = np.transpose(G)\n",
        "    for i in range(nzrows):\n",
        "        Gprime = rowSwap(n, i, pivots[i][1], ffield) @ Gprime\n",
        "    Gprime = np.transpose(Gprime)\n",
        "    X = Gprime[:,nzrows:]\n",
        "\n",
        "    if nzrows < n:\n",
        "        Xprime = (-1)*np.transpose(X)\n",
        "        In_k = rowSwap(n-nzrows, 0, 0, ffield)\n",
        "        H = np.concatenate((Xprime, In_k), axis=1)\n",
        "\n",
        "        H = np.transpose(H)\n",
        "        for i in range(nzrows):\n",
        "            j = nzrows-i-1\n",
        "            H = rowSwap(n, j, pivots[j][1], ffield) @ H\n",
        "        H = np.transpose(H)\n",
        "        return H\n",
        "    else:\n",
        "        return np.array([])\n",
        "\n",
        "print(\"B3 basis for C dual = \")\n",
        "print(dualBase(C, GF))"
      ]
    },
    {
      "cell_type": "markdown",
      "metadata": {
        "id": "uHublBW_tdkM"
      },
      "source": [
        "# Syndrome look-up table"
      ]
    },
    {
      "cell_type": "code",
      "execution_count": 17,
      "metadata": {
        "id": "GdUGBu11NW1H"
      },
      "outputs": [],
      "source": [
        "def nextSequence(array):\n",
        "    if array[0]==0:\n",
        "        chain=0\n",
        "        for i in range(len(array)-1):\n",
        "            chain=i\n",
        "            if array[i]+1 != array[i+1]:\n",
        "                break\n",
        "            elif i==len(array)-2 and array[i]+1 == array[i+1]:\n",
        "                chain=i+1\n",
        "                break\n",
        "\n",
        "        if chain==len(array)-1:\n",
        "            return []\n",
        "        else:\n",
        "            translation = array[chain+1]-array[chain]-2\n",
        "            array[chain+1] = array[chain+1] - 1\n",
        "            for i in range(chain+1): array[i] += translation\n",
        "            return array\n",
        "    else:\n",
        "        array[0] = array[0] - 1\n",
        "        return array"
      ]
    },
    {
      "cell_type": "code",
      "execution_count": 18,
      "metadata": {
        "colab": {
          "base_uri": "https://localhost:8080/"
        },
        "id": "UdDRdkFqat9S",
        "outputId": "151ebf0d-c2d7-48f6-dad8-664311018329"
      },
      "outputs": [],
      "source": [
        "def generateNext(w, ffield):\n",
        "    L = len(w)-1\n",
        "    q = ffield.order\n",
        "    temp = ffield(1)\n",
        "    w = ffield(w)\n",
        "\n",
        "    nonZeros = 0\n",
        "    indZeros = []\n",
        "    for i in range(len(w)):\n",
        "        if w[i]!=0:\n",
        "            nonZeros +=1\n",
        "            indZeros.append(i)\n",
        "\n",
        "    if nonZeros==0:\n",
        "        w[L] = w[L] + ffield(1)\n",
        "    else:\n",
        "        isAllq_1 = True\n",
        "        for i in range(len(indZeros)):\n",
        "            if w[indZeros[i]] != q-1:\n",
        "                isAllq_1 = False\n",
        "                break\n",
        "\n",
        "        isAllLeft = False\n",
        "        indLeft = [i for i in range(nonZeros)]\n",
        "        if indLeft == indZeros:\n",
        "            isAllLeft = True\n",
        "\n",
        "        if not isAllq_1:\n",
        "            w[indZeros[nonZeros-1]] = w[indZeros[nonZeros-1]]+ffield(1)\n",
        "            temp = ffield(1)\n",
        "            for i in range(nonZeros-1):\n",
        "                s = nonZeros-i-2\n",
        "                if w[indZeros[s+1]] == 0:\n",
        "                    w[indZeros[s]] = w[indZeros[s]]+temp\n",
        "                else:\n",
        "                    temp=ffield(0)\n",
        "\n",
        "            for i in range(nonZeros):\n",
        "                if w[indZeros[i]] == ffield(0):\n",
        "                    w[indZeros[i]] = ffield(1)\n",
        "        else:\n",
        "            if not isAllLeft:\n",
        "                nextloc = nextSequence(indZeros)\n",
        "                w = ffield.Zeros(len(w))\n",
        "                for i in range(len(nextloc)):\n",
        "                    w[nextloc[i]] = ffield(1)\n",
        "            else:\n",
        "                if nonZeros==len(w):\n",
        "                    w = ffield.Zeros(len(w))\n",
        "                else:\n",
        "                    w = ffield.Zeros(len(w))\n",
        "                    nextloc = [i for i in range(len(w)-nonZeros-1,len(w))]\n",
        "                    for i in range(len(nextloc)):\n",
        "                        w[nextloc[i]] = ffield(1)\n",
        "    return w"
      ]
    },
    {
      "cell_type": "code",
      "execution_count": 19,
      "metadata": {
        "id": "8xjbBLMKzYny"
      },
      "outputs": [],
      "source": [
        "def isArrInArrays(arrays, arr):\n",
        "    isIn = True\n",
        "    lenarr = len(arr)\n",
        "    for i in range(len(arrays)):\n",
        "        isIn = True\n",
        "        for j in range(lenarr):\n",
        "            if arrays[i,j] != arr[j]:\n",
        "                isIn = False\n",
        "        if isIn==True:\n",
        "            break\n",
        "    return isIn"
      ]
    },
    {
      "cell_type": "code",
      "execution_count": 20,
      "metadata": {
        "colab": {
          "base_uri": "https://localhost:8080/"
        },
        "id": "OK5jFiwcJ8tQ",
        "outputId": "8d1f6566-2646-4cdd-ac2c-053e07f656e0"
      },
      "outputs": [
        {
          "name": "stdout",
          "output_type": "stream",
          "text": [
            "coset leader | syndrome\n",
            "[0 0 0 0]  |  [0 0]\n",
            "[0 0 0 1]  |  [0 1]\n",
            "[0 0 0 2]  |  [0 2]\n",
            "[0 0 0 3]  |  [0 3]\n",
            "[0 0 0 4]  |  [0 4]\n",
            "[0 0 0 5]  |  [0 5]\n",
            "[0 0 0 6]  |  [0 6]\n",
            "[0 0 1 0]  |  [1 0]\n",
            "[0 0 2 0]  |  [2 0]\n",
            "[0 0 3 0]  |  [3 0]\n",
            "[0 0 4 0]  |  [4 0]\n",
            "[0 0 5 0]  |  [5 0]\n",
            "[0 0 6 0]  |  [6 0]\n",
            "[0 1 0 0]  |  [5 4]\n",
            "[0 2 0 0]  |  [3 1]\n",
            "[0 3 0 0]  |  [1 5]\n",
            "[0 4 0 0]  |  [6 2]\n",
            "[0 5 0 0]  |  [4 6]\n",
            "[0 6 0 0]  |  [2 3]\n",
            "[1 0 0 0]  |  [1 2]\n",
            "[2 0 0 0]  |  [2 4]\n",
            "[3 0 0 0]  |  [3 6]\n",
            "[4 0 0 0]  |  [4 1]\n",
            "[5 0 0 0]  |  [5 3]\n",
            "[6 0 0 0]  |  [6 5]\n",
            "[0 0 1 1]  |  [1 1]\n",
            "[0 0 1 3]  |  [1 3]\n",
            "[0 0 1 4]  |  [1 4]\n",
            "[0 0 1 6]  |  [1 6]\n",
            "[0 0 2 1]  |  [2 1]\n",
            "[0 0 2 2]  |  [2 2]\n",
            "[0 0 2 5]  |  [2 5]\n",
            "[0 0 2 6]  |  [2 6]\n",
            "[0 0 3 2]  |  [3 2]\n",
            "[0 0 3 3]  |  [3 3]\n",
            "[0 0 3 4]  |  [3 4]\n",
            "[0 0 3 5]  |  [3 5]\n",
            "[0 0 4 2]  |  [4 2]\n",
            "[0 0 4 3]  |  [4 3]\n",
            "[0 0 4 4]  |  [4 4]\n",
            "[0 0 4 5]  |  [4 5]\n",
            "[0 0 5 1]  |  [5 1]\n",
            "[0 0 5 2]  |  [5 2]\n",
            "[0 0 5 5]  |  [5 5]\n",
            "[0 0 5 6]  |  [5 6]\n",
            "[0 0 6 1]  |  [6 1]\n",
            "[0 0 6 3]  |  [6 3]\n",
            "[0 0 6 4]  |  [6 4]\n",
            "[0 0 6 6]  |  [6 6]\n"
          ]
        }
      ],
      "source": [
        "def generateLUT(H, ffield):\n",
        "    n = len(H[0])\n",
        "    n_k = len(H)\n",
        "    cLeader = np.array([0 for i in range(n)])\n",
        "    cLeader = ffield(cLeader)\n",
        "    synd = cLeader @ np.transpose(H)\n",
        "\n",
        "    syndromes = []\n",
        "    cosLeds = []\n",
        "    syndromes.append(synd)\n",
        "    cosLeds.append(cLeader)\n",
        "    p = np.asarray(syndromes)\n",
        "\n",
        "    syndMaxSize = ffield.order**n_k\n",
        "    while(len(p) < syndMaxSize):\n",
        "        cLeader = generateNext(cLeader, ffield)\n",
        "        synd = cLeader @ np.transpose(H)\n",
        "        isIn = isArrInArrays(p, synd)\n",
        "        if not isIn:\n",
        "            syndromes.append(synd)\n",
        "            cosLeds.append(cLeader)\n",
        "            p = np.asarray(syndromes)\n",
        "    return np.asarray(cosLeds), p\n",
        "\n",
        "cLeaders, synd = generateLUT(dualBase(C, GF), GF)\n",
        "\n",
        "print(\"coset leader | syndrome\")\n",
        "for i in range(len(synd)):\n",
        "    print(cLeaders[i], \" | \", synd[i])"
      ]
    },
    {
      "cell_type": "markdown",
      "metadata": {
        "id": "9CT6ZRId6y5H"
      },
      "source": [
        "# Syndrome Decoding"
      ]
    },
    {
      "cell_type": "markdown",
      "metadata": {},
      "source": [
        "The decoding scheme that making use of the syndrome to identify the coset to which the received word belongs."
      ]
    },
    {
      "cell_type": "code",
      "execution_count": 21,
      "metadata": {
        "id": "zsMgJxiX-PKW"
      },
      "outputs": [],
      "source": [
        "def findSyndrome(sy, s):\n",
        "    lens = len(s)\n",
        "    for i in range(len(sy)):\n",
        "        isIn = True\n",
        "        for j in range(lens):\n",
        "            if sy[i,j] != s[j]:\n",
        "                isIn = False\n",
        "        if isIn==True:\n",
        "            return i"
      ]
    },
    {
      "cell_type": "code",
      "execution_count": 22,
      "metadata": {
        "colab": {
          "base_uri": "https://localhost:8080/"
        },
        "id": "YFFGrGrk6zZ1",
        "outputId": "329759cb-f819-4cb5-bf48-bdf7868923aa"
      },
      "outputs": [
        {
          "name": "stdout",
          "output_type": "stream",
          "text": [
            "Enter the code A1A2A3...AN such that Ai an element of F_7 by typing them separately by space.\n",
            "For example, if N=3 and q=11, and A1 = 1, A2 = 10, A3 = 3, then type \"1 10 3\".\n",
            "Please enter each of the Ai only with integers.\n",
            "Your code is [1 1 4 5].\n",
            "[3 4] is the syndrome.\n",
            "[0 0 3 4] is the coset leader.\n",
            "Your decoded code is [1 1 1 1].\n"
          ]
        }
      ],
      "source": [
        "def decodeSyndrome(C, ffield):\n",
        "    N = len(C[0])\n",
        "    q = ffield.order\n",
        "    D = dualBase(C, ffield)\n",
        "    cLeaders, synd = generateLUT(D, ffield)\n",
        "\n",
        "    print(f\"Enter the code A1A2A3...AN such that Ai an element of F_{q} by typing them separately by space.\")\n",
        "    print(f\"For example, if N=3 and q=11, and A1 = 1, A2 = 10, A3 = 3, then type \\\"1 10 3\\\".\")\n",
        "    print(\"Please enter each of the Ai only with integers.\")\n",
        "\n",
        "    string = input(F\"\\nEnter code of length {N}: \")\n",
        "    code = string.split()\n",
        "    while(len(code) != N):\n",
        "        print(f\"The length is not {N}, try again.\")\n",
        "        string = input(f\"\\nEnter code of length {N} again: \")\n",
        "        code = string.split()\n",
        "    code = np.array(code)\n",
        "    code = code.astype('int64')\n",
        "    code = ffield(np.array(code)%q)\n",
        "\n",
        "    s = code @ np.transpose(D)\n",
        "    print(f\"Your code is {code}.\")\n",
        "    print(f\"{s} is the syndrome.\")\n",
        "    cosetCode = cLeaders[findSyndrome(synd, s)]\n",
        "    print(f\"{cosetCode} is the coset leader.\")\n",
        "    print(f\"Your decoded code is {code - ffield(cosetCode)}.\")\n",
        "\n",
        "decodeSyndrome(C, GF)\n"
      ]
    }
  ],
  "metadata": {
    "colab": {
      "provenance": [],
      "toc_visible": true
    },
    "kernelspec": {
      "display_name": "Python 3",
      "name": "python3"
    },
    "language_info": {
      "codemirror_mode": {
        "name": "ipython",
        "version": 3
      },
      "file_extension": ".py",
      "mimetype": "text/x-python",
      "name": "python",
      "nbconvert_exporter": "python",
      "pygments_lexer": "ipython3",
      "version": "3.9.0"
    }
  },
  "nbformat": 4,
  "nbformat_minor": 0
}
